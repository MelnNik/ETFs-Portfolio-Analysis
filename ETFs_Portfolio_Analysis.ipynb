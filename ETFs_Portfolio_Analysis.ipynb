{
  "nbformat": 4,
  "nbformat_minor": 0,
  "metadata": {
    "colab": {
      "name": "ETFs Portfolio Analysis.ipynb",
      "provenance": [],
      "collapsed_sections": [],
      "authorship_tag": "ABX9TyOrSDiuEA59JzN2iG2Q2OY6"
    },
    "kernelspec": {
      "name": "python3",
      "display_name": "Python 3"
    }
  },
  "cells": [
    {
      "cell_type": "markdown",
      "metadata": {
        "id": "jfU3sTnwn9ju"
      },
      "source": [
        "# Track positions of the investment companies. \r\n",
        "Companies that are present in the following analysis: [Ark Invest](https://ark-invest.com/), [BlackRock](https://www.ishares.com/us), [Invesco](https://www.invesco.com/us/financial-products/etfs/performance), [Global X](https://www.globalxetfs.com/).\r\n",
        "\r\n",
        "After the analysis of the companies' portfolios we are going to leverage ideas of James O'Shaughnessy from his book 'What works on Wall Streat' to choose the best stocks from the ETFs with the growth potential according to his growth strategy."
      ]
    },
    {
      "cell_type": "code",
      "metadata": {
        "id": "QDoOi78fArjh"
      },
      "source": [
        "author = 'Nikolai Melnikov'\r\n",
        "author_url = 'https://www.linkedin.com/in/nikolaimelnikov/'"
      ],
      "execution_count": null,
      "outputs": []
    },
    {
      "cell_type": "markdown",
      "metadata": {
        "id": "qMGXv1eadn2s"
      },
      "source": [
        "Imporing all the necessary libraries for the project"
      ]
    },
    {
      "cell_type": "code",
      "metadata": {
        "id": "01VwWfrpHHiu"
      },
      "source": [
        "!pip install -U git+https://github.com/mariostoev/finviz"
      ],
      "execution_count": null,
      "outputs": []
    },
    {
      "cell_type": "code",
      "metadata": {
        "id": "_vLtjsHT6Hsh"
      },
      "source": [
        "import pandas as pd\r\n",
        "\r\n",
        "import requests\r\n",
        "from io import StringIO\r\n",
        "\r\n",
        "import finviz\r\n",
        "from finviz.screener import Screener\r\n",
        "\r\n",
        "import matplotlib.pyplot as plt\r\n",
        "import seaborn as sns\r\n",
        "sns.set_theme(style=\"whitegrid\")\r\n",
        "\r\n",
        "import nest_asyncio #for finviz screener\r\n",
        "nest_asyncio.apply()\r\n",
        "\r\n",
        "headers = {\"User-Agent\": \"Mozilla/5.0 (Macintosh; Intel Mac OS X 10.14; rv:66.0) Gecko/20100101 Firefox/66.0\"}"
      ],
      "execution_count": null,
      "outputs": []
    },
    {
      "cell_type": "markdown",
      "metadata": {
        "id": "A8Ft88pl64VX"
      },
      "source": [
        "# Ark Invest \r\n",
        "\r\n",
        "**[ARKK](https://ark-funds.com/arkk):** Main ARK's ETF.\r\n",
        "**[ARKQ](https://ark-funds.com/arkq):** ARK Autonomous Technology & Robotics.\r\n",
        "\r\n",
        "**[ARKW](https://ark-funds.com/arkw):** ARK Next Generation Internet.\r\n",
        "**[ARKG](https://ark-funds.com/arkg):** ARK Genomic Revolution.\r\n",
        "\r\n",
        "**[ARKF](https://ark-funds.com/fintech-etf):** ARK FinTech Innovation.\r\n",
        "**[PRNT](https://ark-funds.com/3d-printing-etf):** The 3D Printing."
      ]
    },
    {
      "cell_type": "code",
      "metadata": {
        "id": "9xRShwORXPqg"
      },
      "source": [
        "ark_holdings = {\r\n",
        "    'url_arkk': 'https://ark-funds.com/wp-content/fundsiteliterature/csv/ARK_INNOVATION_ETF_ARKK_HOLDINGS.csv',\r\n",
        "    'url_arkq': 'https://ark-funds.com/wp-content/fundsiteliterature/csv/ARK_AUTONOMOUS_TECHNOLOGY_&_ROBOTICS_ETF_ARKQ_HOLDINGS.csv',\r\n",
        "    'url_arkw': 'https://ark-funds.com/wp-content/fundsiteliterature/csv/ARK_NEXT_GENERATION_INTERNET_ETF_ARKW_HOLDINGS.csv',\r\n",
        "    'url_arkg': 'https://ark-funds.com/wp-content/fundsiteliterature/csv/ARK_GENOMIC_REVOLUTION_MULTISECTOR_ETF_ARKG_HOLDINGS.csv',\r\n",
        "    'url_arkf': 'https://ark-funds.com/wp-content/fundsiteliterature/csv/ARK_FINTECH_INNOVATION_ETF_ARKF_HOLDINGS.csv',\r\n",
        "    'url_prnt': 'https://ark-funds.com/wp-content/fundsiteliterature/csv/THE_3D_PRINTING_ETF_PRNT_HOLDINGS.csv'\r\n",
        "}\r\n",
        "\r\n",
        "ark = pd.DataFrame(columns=['fund', 'shares', 'market value($)', 'weight(%)'])\r\n",
        "for url in ark_holdings.values():\r\n",
        "  req = requests.get(url, headers=headers)\r\n",
        "  url_data = StringIO(req.text)\r\n",
        "  df = pd.read_csv(url_data)\r\n",
        "  df['ticker'] = df['ticker'].str.split(' ').str[0]\r\n",
        "  df.set_index('ticker', inplace=True)\r\n",
        "  df.drop(['date','cusip','company'], axis=1, inplace=True)\r\n",
        "  df.dropna(inplace=True)\r\n",
        "  ark = pd.concat([ark, df])"
      ],
      "execution_count": null,
      "outputs": []
    },
    {
      "cell_type": "code",
      "metadata": {
        "id": "EkVuMmREqfaa"
      },
      "source": [
        "ark['total_value($)'] = ark.groupby(ark.index)['market value($)'].sum()\r\n",
        "ark['total_shares'] = ark.groupby(ark.index)['shares'].sum()\r\n",
        "ark = ark[~ark.index.duplicated(keep='first')]\r\n",
        "ark.drop(['fund','shares','market value($)','weight(%)'], axis=1, inplace=True)\r\n",
        "ark.dropna(inplace=True)\r\n",
        "ark['weight(%)'] = ark.apply(lambda x: (x['total_value($)']/ark['total_value($)'].sum())*100 , axis=1)\r\n",
        "ark.sort_values(by=['weight(%)'], ascending=False, inplace=True)"
      ],
      "execution_count": null,
      "outputs": []
    },
    {
      "cell_type": "code",
      "metadata": {
        "colab": {
          "base_uri": "https://localhost:8080/",
          "height": 419
        },
        "id": "B1ceSctuahy0",
        "outputId": "49643348-552f-419f-a935-71196b6f8ad9"
      },
      "source": [
        "ark"
      ],
      "execution_count": null,
      "outputs": [
        {
          "output_type": "execute_result",
          "data": {
            "text/html": [
              "<div>\n",
              "<style scoped>\n",
              "    .dataframe tbody tr th:only-of-type {\n",
              "        vertical-align: middle;\n",
              "    }\n",
              "\n",
              "    .dataframe tbody tr th {\n",
              "        vertical-align: top;\n",
              "    }\n",
              "\n",
              "    .dataframe thead th {\n",
              "        text-align: right;\n",
              "    }\n",
              "</style>\n",
              "<table border=\"1\" class=\"dataframe\">\n",
              "  <thead>\n",
              "    <tr style=\"text-align: right;\">\n",
              "      <th></th>\n",
              "      <th>total_value($)</th>\n",
              "      <th>total_shares</th>\n",
              "      <th>weight(%)</th>\n",
              "    </tr>\n",
              "  </thead>\n",
              "  <tbody>\n",
              "    <tr>\n",
              "      <th>TSLA</th>\n",
              "      <td>3.798489e+09</td>\n",
              "      <td>5429516.0</td>\n",
              "      <td>7.614211</td>\n",
              "    </tr>\n",
              "    <tr>\n",
              "      <th>TDOC</th>\n",
              "      <td>2.450088e+09</td>\n",
              "      <td>12326248.0</td>\n",
              "      <td>4.911291</td>\n",
              "    </tr>\n",
              "    <tr>\n",
              "      <th>SQ</th>\n",
              "      <td>2.414234e+09</td>\n",
              "      <td>9987730.0</td>\n",
              "      <td>4.839420</td>\n",
              "    </tr>\n",
              "    <tr>\n",
              "      <th>ROKU</th>\n",
              "      <td>1.670410e+09</td>\n",
              "      <td>4597373.0</td>\n",
              "      <td>3.348397</td>\n",
              "    </tr>\n",
              "    <tr>\n",
              "      <th>Z</th>\n",
              "      <td>1.273608e+09</td>\n",
              "      <td>8098742.0</td>\n",
              "      <td>2.552994</td>\n",
              "    </tr>\n",
              "    <tr>\n",
              "      <th>...</th>\n",
              "      <td>...</td>\n",
              "      <td>...</td>\n",
              "      <td>...</td>\n",
              "    </tr>\n",
              "    <tr>\n",
              "      <th>3402</th>\n",
              "      <td>5.995756e+05</td>\n",
              "      <td>91708.0</td>\n",
              "      <td>0.001202</td>\n",
              "    </tr>\n",
              "    <tr>\n",
              "      <th>DD</th>\n",
              "      <td>5.825955e+05</td>\n",
              "      <td>7577.0</td>\n",
              "      <td>0.001168</td>\n",
              "    </tr>\n",
              "    <tr>\n",
              "      <th>LSPD</th>\n",
              "      <td>5.681177e+05</td>\n",
              "      <td>8824.0</td>\n",
              "      <td>0.001139</td>\n",
              "    </tr>\n",
              "    <tr>\n",
              "      <th>ROK</th>\n",
              "      <td>3.255560e+05</td>\n",
              "      <td>1232.0</td>\n",
              "      <td>0.000653</td>\n",
              "    </tr>\n",
              "    <tr>\n",
              "      <th>FLIR</th>\n",
              "      <td>2.973517e+05</td>\n",
              "      <td>5447.0</td>\n",
              "      <td>0.000596</td>\n",
              "    </tr>\n",
              "  </tbody>\n",
              "</table>\n",
              "<p>211 rows × 3 columns</p>\n",
              "</div>"
            ],
            "text/plain": [
              "      total_value($)  total_shares  weight(%)\n",
              "TSLA    3.798489e+09     5429516.0   7.614211\n",
              "TDOC    2.450088e+09    12326248.0   4.911291\n",
              "SQ      2.414234e+09     9987730.0   4.839420\n",
              "ROKU    1.670410e+09     4597373.0   3.348397\n",
              "Z       1.273608e+09     8098742.0   2.552994\n",
              "...              ...           ...        ...\n",
              "3402    5.995756e+05       91708.0   0.001202\n",
              "DD      5.825955e+05        7577.0   0.001168\n",
              "LSPD    5.681177e+05        8824.0   0.001139\n",
              "ROK     3.255560e+05        1232.0   0.000653\n",
              "FLIR    2.973517e+05        5447.0   0.000596\n",
              "\n",
              "[211 rows x 3 columns]"
            ]
          },
          "metadata": {
            "tags": []
          },
          "execution_count": 5
        }
      ]
    },
    {
      "cell_type": "code",
      "metadata": {
        "id": "4mbKkbE8naZg",
        "colab": {
          "base_uri": "https://localhost:8080/",
          "height": 306
        },
        "outputId": "739df7e3-f2b6-48f5-fe32-4743911d9f4f"
      },
      "source": [
        "ax = ark['weight(%)'].head(15).plot(kind='bar')\r\n",
        "ax.axhline(ark['weight(%)'].mean(), color='red', linewidth=2, label='Mean')\r\n",
        "plt.text(13,0.6,'Mean')\r\n",
        "ax.set(ylabel='Weight(%)', title='Top tickers in Ark Investment')\r\n",
        "plt.show()"
      ],
      "execution_count": null,
      "outputs": [
        {
          "output_type": "display_data",
          "data": {
            "image/png": "[encoded data removed]",
            "text/plain": [
              "<Figure size 432x288 with 1 Axes>"
            ]
          },
          "metadata": {
            "tags": []
          }
        }
      ]
    },
    {
      "cell_type": "markdown",
      "metadata": {
        "id": "CsTiP2DVRmds"
      },
      "source": [
        "# iShares\r\n",
        "\r\n",
        "**[IWF](https://www.ishares.com/us/products/239706/):** Russell 1000 Growth.\r\n",
        "**[IJH](https://www.ishares.com/us/products/239763/):** Core S&P Mid-Cap.\r\n",
        "\r\n",
        "**[IVW](https://www.ishares.com/us/products/239725/):** S&P 500 Growth.\r\n",
        "**[QUAL](https://www.ishares.com/us/products/256101/):** MSCI USA Quality Factor.\r\n",
        "\r\n",
        "**[IRBO](https://www.ishares.com/us/products/297905/):** Robotics and Artificial Intelligence Multisector.\r\n",
        "**[IBB](https://www.ishares.com/us/products/239699/):** Nasdaq Biotechnology.\r\n",
        "\r\n",
        "**[SOXX](https://www.ishares.com/us/products/239705/):** PHLX Semiconductor.\r\n",
        "**[IGV](https://www.ishares.com/us/products/239771/):** Expanded Tech-Software Sector.\r\n",
        "\r\n",
        "**[IXN](https://www.ishares.com/us/products/239750/):** Global Tech.\r\n",
        "**[ICLN](https://www.ishares.com/us/products/239738/):** Global Clean Energy.\r\n",
        "\r\n",
        "**[IEMG](https://www.ishares.com/us/products/244050/):** Core MSCI Emerging Markets."
      ]
    },
    {
      "cell_type": "code",
      "metadata": {
        "id": "Y5pBTYgQRlvQ"
      },
      "source": [
        "iShares_holdings = {\r\n",
        "    'iwf': 'https://www.ishares.com/us/products/239706/ishares-russell-1000-growth-etf/1467271812596.ajax?fileType=csv&fileName=IWF_holdings&dataType=fund',\r\n",
        "    'ijh': 'https://www.ishares.com/us/products/239763/ishares-core-sp-midcap-etf/1467271812596.ajax?fileType=csv&fileName=IJH_holdings&dataType=fund',\r\n",
        "    'ivw': 'https://www.ishares.com/us/products/239725/ishares-sp-500-growth-etf/1467271812596.ajax?fileType=csv&fileName=IVW_holdings&dataType=fund',\r\n",
        "    'qual': 'https://www.ishares.com/us/products/256101/ishares-msci-usa-quality-factor-etf/1467271812596.ajax?fileType=csv&fileName=QUAL_holdings&dataType=fund',\r\n",
        "    'irbo': 'https://www.ishares.com/us/products/297905/fund/1467271812596.ajax?fileType=csv&fileName=IRBO_holdings&dataType=fund',    \r\n",
        "    'ibb': 'https://www.ishares.com/us/products/239699/ishares-nasdaq-biotechnology-etf/1467271812596.ajax?fileType=csv&fileName=IBB_holdings&dataType=fund',\r\n",
        "    'soxx': 'https://www.ishares.com/us/products/239705/ishares-phlx-semiconductor-etf/1467271812596.ajax?fileType=csv&fileName=SOXX_holdings&dataType=fund',\r\n",
        "    'igv': 'https://www.ishares.com/us/products/239771/ishares-north-american-techsoftware-etf/1467271812596.ajax?fileType=csv&fileName=IGV_holdings&dataType=fund',\r\n",
        "    'ixn': 'https://www.ishares.com/us/products/239750/ishares-global-tech-etf/1467271812596.ajax?fileType=csv&fileName=IXN_holdings&dataType=fund',\r\n",
        "    'icln': 'https://www.ishares.com/us/products/239738/ishares-global-clean-energy-etf/1467271812596.ajax?fileType=csv&fileName=ICLN_holdings&dataType=fund',\r\n",
        "    'iemg': 'https://www.ishares.com/us/products/244050/ishares-core-msci-emerging-markets-etf/1467271812596.ajax?fileType=csv&fileName=IEMG_holdings&dataType=fund'\r\n",
        "}\r\n",
        "\r\n",
        "iShares = pd.DataFrame(columns=['Market Value', 'Weight (%)', 'Shares'])\r\n",
        "\r\n",
        "for url in iShares_holdings.values():\r\n",
        "  req = requests.get(url, headers=headers)\r\n",
        "  url_data = StringIO(req.text)\r\n",
        "  df = pd.read_csv(url_data, skiprows=9)\r\n",
        "  df['Ticker'] = df['Ticker'].str.split(' ').str[0]\r\n",
        "  df.set_index('Ticker', inplace=True)\r\n",
        "  df.drop(['Name','Sector','Asset Class','CUSIP','ISIN','SEDOL','Location','Exchange','Currency','Market Currency','Accrual Date','Price','FX Rate','Notional Value'], axis=1, inplace=True)\r\n",
        "  df.dropna(inplace=True)\r\n",
        "  df = df[~df.index.duplicated(keep='first')]\r\n",
        "  df = df.replace(',','', regex=True)\r\n",
        "  df = df.astype('float64')\r\n",
        "  df = df[(df['Market Value'] > 0) & (df['Weight (%)'] > 0)]\r\n",
        "  iShares = pd.concat([iShares, df])"
      ],
      "execution_count": null,
      "outputs": []
    },
    {
      "cell_type": "code",
      "metadata": {
        "id": "6_4IW9UtnNP-"
      },
      "source": [
        "iShares['total_value($)'] = iShares.groupby(iShares.index)['Market Value'].sum()\r\n",
        "iShares['total_shares'] = iShares.groupby(iShares.index)['Shares'].sum()\r\n",
        "iShares = iShares[~iShares.index.duplicated(keep='first')]\r\n",
        "iShares.drop(['Market Value','Weight (%)','Shares'], axis=1, inplace=True)\r\n",
        "iShares.dropna(inplace=True)\r\n",
        "iShares['weight(%)'] = iShares.apply(lambda x: (x['total_value($)']/iShares['total_value($)'].sum())*100 , axis=1)\r\n",
        "iShares.sort_values(by=['weight(%)'], ascending=False, inplace=True)"
      ],
      "execution_count": null,
      "outputs": []
    },
    {
      "cell_type": "code",
      "metadata": {
        "colab": {
          "base_uri": "https://localhost:8080/",
          "height": 419
        },
        "id": "DJmlhHtpafX9",
        "outputId": "14fda665-34df-43c3-c590-5c9959ddebf5"
      },
      "source": [
        "iShares"
      ],
      "execution_count": null,
      "outputs": [
        {
          "output_type": "execute_result",
          "data": {
            "text/html": [
              "<div>\n",
              "<style scoped>\n",
              "    .dataframe tbody tr th:only-of-type {\n",
              "        vertical-align: middle;\n",
              "    }\n",
              "\n",
              "    .dataframe tbody tr th {\n",
              "        vertical-align: top;\n",
              "    }\n",
              "\n",
              "    .dataframe thead th {\n",
              "        text-align: right;\n",
              "    }\n",
              "</style>\n",
              "<table border=\"1\" class=\"dataframe\">\n",
              "  <thead>\n",
              "    <tr style=\"text-align: right;\">\n",
              "      <th></th>\n",
              "      <th>total_value($)</th>\n",
              "      <th>total_shares</th>\n",
              "      <th>weight(%)</th>\n",
              "    </tr>\n",
              "  </thead>\n",
              "  <tbody>\n",
              "    <tr>\n",
              "      <th>AAPL</th>\n",
              "      <td>1.177737e+10</td>\n",
              "      <td>97309529.0</td>\n",
              "      <td>4.146759</td>\n",
              "    </tr>\n",
              "    <tr>\n",
              "      <th>MSFT</th>\n",
              "      <td>1.134010e+10</td>\n",
              "      <td>48102218.0</td>\n",
              "      <td>3.992797</td>\n",
              "    </tr>\n",
              "    <tr>\n",
              "      <th>AMZN</th>\n",
              "      <td>6.858748e+09</td>\n",
              "      <td>2220026.0</td>\n",
              "      <td>2.414934</td>\n",
              "    </tr>\n",
              "    <tr>\n",
              "      <th>2330</th>\n",
              "      <td>4.728601e+09</td>\n",
              "      <td>216872600.0</td>\n",
              "      <td>1.664919</td>\n",
              "    </tr>\n",
              "    <tr>\n",
              "      <th>700</th>\n",
              "      <td>4.080464e+09</td>\n",
              "      <td>48715600.0</td>\n",
              "      <td>1.436713</td>\n",
              "    </tr>\n",
              "    <tr>\n",
              "      <th>...</th>\n",
              "      <td>...</td>\n",
              "      <td>...</td>\n",
              "      <td>...</td>\n",
              "    </tr>\n",
              "    <tr>\n",
              "      <th>WFFUT</th>\n",
              "      <td>1.271027e+06</td>\n",
              "      <td>1271000.0</td>\n",
              "      <td>0.000448</td>\n",
              "    </tr>\n",
              "    <tr>\n",
              "      <th>NOK</th>\n",
              "      <td>1.242259e+06</td>\n",
              "      <td>10496470.0</td>\n",
              "      <td>0.000437</td>\n",
              "    </tr>\n",
              "    <tr>\n",
              "      <th>SGAFT</th>\n",
              "      <td>1.239000e+06</td>\n",
              "      <td>1239000.0</td>\n",
              "      <td>0.000436</td>\n",
              "    </tr>\n",
              "    <tr>\n",
              "      <th>APRE</th>\n",
              "      <td>1.083945e+06</td>\n",
              "      <td>181870.0</td>\n",
              "      <td>0.000382</td>\n",
              "    </tr>\n",
              "    <tr>\n",
              "      <th>AUD</th>\n",
              "      <td>5.458185e+05</td>\n",
              "      <td>704327.0</td>\n",
              "      <td>0.000192</td>\n",
              "    </tr>\n",
              "  </tbody>\n",
              "</table>\n",
              "<p>3317 rows × 3 columns</p>\n",
              "</div>"
            ],
            "text/plain": [
              "       total_value($)  total_shares  weight(%)\n",
              "AAPL     1.177737e+10    97309529.0   4.146759\n",
              "MSFT     1.134010e+10    48102218.0   3.992797\n",
              "AMZN     6.858748e+09     2220026.0   2.414934\n",
              "2330     4.728601e+09   216872600.0   1.664919\n",
              "700      4.080464e+09    48715600.0   1.436713\n",
              "...               ...           ...        ...\n",
              "WFFUT    1.271027e+06     1271000.0   0.000448\n",
              "NOK      1.242259e+06    10496470.0   0.000437\n",
              "SGAFT    1.239000e+06     1239000.0   0.000436\n",
              "APRE     1.083945e+06      181870.0   0.000382\n",
              "AUD      5.458185e+05      704327.0   0.000192\n",
              "\n",
              "[3317 rows x 3 columns]"
            ]
          },
          "metadata": {
            "tags": []
          },
          "execution_count": 9
        }
      ]
    },
    {
      "cell_type": "code",
      "metadata": {
        "id": "MNJ5ALynnft9",
        "colab": {
          "base_uri": "https://localhost:8080/",
          "height": 316
        },
        "outputId": "5007589e-f73e-47dd-8fcf-6183dceadfc2"
      },
      "source": [
        "ax = iShares['weight(%)'].head(15).plot(kind='bar')\r\n",
        "ax.axhline(iShares['weight(%)'].mean(), color='red', linewidth=2, label='Mean')\r\n",
        "plt.text(13,0.2,'Mean')\r\n",
        "ax.set(ylabel='Weight(%)', title='Top tickers in BlackRock\\'s iShares')\r\n",
        "plt.show()"
      ],
      "execution_count": null,
      "outputs": [
        {
          "output_type": "display_data",
          "data": {
            "image/png": "[encoded data removed]",
            "text/plain": [
              "<Figure size 432x288 with 1 Axes>"
            ]
          },
          "metadata": {
            "tags": []
          }
        }
      ]
    },
    {
      "cell_type": "markdown",
      "metadata": {
        "id": "-mHD-wW211SA"
      },
      "source": [
        "# Invesco\r\n",
        "\r\n",
        "**[QQQ](https://www.invesco.com/us/financial-products/etfs/holdings?audienceType=Investor&ticker=QQQ):** Includes 100 of the largest international and domestic companies listed on the Nasdaq.\r\n",
        "**[PTF](https://www.invesco.com/us/financial-products/etfs/holdings?audienceType=Investor&ticker=PTF):** DWA Technology Momentum.\r\n",
        "\r\n",
        "**[PBW](https://www.invesco.com/us/financial-products/etfs/holdings?audienceType=Investor&ticker=PBW):** WilderHill Clean Energy.\r\n",
        "**[TAN](https://www.invesco.com/us/financial-products/etfs/holdings?audienceType=Investor&ticker=TAN):** Solar.\r\n",
        "\r\n",
        "**[PBE](https://www.invesco.com/us/financial-products/etfs/holdings?audienceType=Investor&ticker=PBE):** Dynamic Biotechnology & Genome.\r\n",
        "**[PSI](https://www.invesco.com/us/financial-products/etfs/holdings?audienceType=Investor&ticker=PSI):** Dynamic Semiconductors.\r\n",
        "\r\n",
        "**[PZD](https://www.invesco.com/us/financial-products/etfs/holdings?audienceType=Investor&ticker=PZD):** Cleantech™.\r\n",
        "**[PPA](https://www.invesco.com/us/financial-products/etfs/holdings?audienceType=Investor&ticker=PPA):** Aerospace & Defense.\r\n",
        "\r\n",
        "**[PYZ](https://www.invesco.com/us/financial-products/etfs/holdings?audienceType=Investor&ticker=PYZ):** Basic Materials Momentum.\r\n",
        "**[PEZ](https://www.invesco.com/us/financial-products/etfs/holdings?audienceType=Investor&ticker=PEZ):** Consumer Cyclicals Momentum.\r\n",
        "\r\n",
        "**[PRN](https://www.invesco.com/us/financial-products/etfs/holdings?audienceType=Investor&ticker=PRN):** Industrials Momentum.\r\n",
        "**[PTF](https://www.invesco.com/us/financial-products/etfs/holdings?audienceType=Investor&ticker=PTF):** Technology Momentum.\r\n",
        "\r\n",
        "**[SPGP](https://www.invesco.com/us/financial-products/etfs/holdings?audienceType=Investor&ticker=SPGP):** S&P 500 GARP.\r\n",
        "**[SPVM](https://www.invesco.com/us/financial-products/etfs/holdings?audienceType=Investor&ticker=SPVM):** S&P 500 Value with Momentum."
      ]
    },
    {
      "cell_type": "code",
      "metadata": {
        "id": "m-HYh1PI12Oj"
      },
      "source": [
        "invesco_holdings = {\r\n",
        "    'qqq': 'https://www.invesco.com/us/financial-products/etfs/holdings/main/holdings/0?audienceType=Advisor&action=download&ticker=QQQ',\r\n",
        "    'ptf': 'https://www.invesco.com/us/financial-products/etfs/holdings/main/holdings/0?audienceType=Investor&action=download&ticker=PTF',\r\n",
        "    'pbw': 'https://www.invesco.com/us/financial-products/etfs/holdings/main/holdings/0?audienceType=Investor&action=download&ticker=PBW',\r\n",
        "    'tan': 'https://www.invesco.com/us/financial-products/etfs/holdings/main/holdings/0?audienceType=Investor&action=download&ticker=TAN',\r\n",
        "    'pbe': 'https://www.invesco.com/us/financial-products/etfs/holdings/main/holdings/0?audienceType=Investor&action=download&ticker=PBE',\r\n",
        "    'psi': 'https://www.invesco.com/us/financial-products/etfs/holdings/main/holdings/0?audienceType=Advisor&action=download&ticker=PSI',\r\n",
        "    'pzd': 'https://www.invesco.com/us/financial-products/etfs/holdings/main/holdings/0?audienceType=Advisor&action=download&ticker=PZD',\r\n",
        "    'ppa': 'https://www.invesco.com/us/financial-products/etfs/holdings/main/holdings/0?audienceType=Advisor&action=download&ticker=PPA',\r\n",
        "    'pyz': 'https://www.invesco.com/us/financial-products/etfs/holdings/main/holdings/0?audienceType=Advisor&action=download&ticker=PYZ',\r\n",
        "    'pez': 'https://www.invesco.com/us/financial-products/etfs/holdings/main/holdings/0?audienceType=Advisor&action=download&ticker=PEZ',\r\n",
        "    'prn': 'https://www.invesco.com/us/financial-products/etfs/holdings/main/holdings/0?audienceType=Advisor&action=download&ticker=PRN',\r\n",
        "    'ptf': 'https://www.invesco.com/us/financial-products/etfs/holdings/main/holdings/0?audienceType=Advisor&action=download&ticker=PTF',    \r\n",
        "    'spgp': 'https://www.invesco.com/us/financial-products/etfs/holdings/main/holdings/0?audienceType=Advisor&action=download&ticker=SPGP',\r\n",
        "    'spvm': 'https://www.invesco.com/us/financial-products/etfs/holdings/main/holdings/0?audienceType=Advisor&action=download&ticker=SPVM'\r\n",
        "}\r\n",
        "\r\n",
        "\r\n",
        "invesco = pd.DataFrame(columns=['MarketValue', 'Weight', 'Shares/Par Value'])\r\n",
        "\r\n",
        "for url in invesco_holdings.values():\r\n",
        "  req = requests.get(url, headers=headers)\r\n",
        "  url_data = StringIO(req.text)\r\n",
        "  df = pd.read_csv(url_data)\r\n",
        "  df['Ticker'] = df['Holding Ticker'].str.split(' ').str[0]\r\n",
        "  df.drop(['Fund Ticker','Security Identifier','Name','Class of Shares','Sector','Date','Holding Ticker'], axis=1, inplace=True)\r\n",
        "  df.set_index('Ticker', inplace=True)\r\n",
        "  df = df[~df.index.duplicated(keep='first')]\r\n",
        "  df = df.replace(',','', regex=True)\r\n",
        "  df = df.astype('float64')\r\n",
        "  df = df[(df['MarketValue'] > 0) & (df['Weight'] > 0)]\r\n",
        "  invesco = pd.concat([invesco, df])"
      ],
      "execution_count": null,
      "outputs": []
    },
    {
      "cell_type": "code",
      "metadata": {
        "id": "xyYYNDrKwmEM"
      },
      "source": [
        "invesco['total_value($)'] = invesco.groupby(invesco.index)['MarketValue'].sum()\r\n",
        "invesco['total_shares'] = invesco.groupby(invesco.index)['Shares/Par Value'].sum()\r\n",
        "invesco = invesco[~invesco.index.duplicated(keep='first')]\r\n",
        "invesco.drop(['MarketValue','Weight','Shares/Par Value'], axis=1, inplace=True)\r\n",
        "invesco.dropna(inplace=True)\r\n",
        "invesco['weight(%)'] = invesco.apply(lambda x: (x['total_value($)']/invesco['total_value($)'].sum())*100 , axis=1)\r\n",
        "invesco.sort_values(by=['weight(%)'], ascending=False, inplace=True)"
      ],
      "execution_count": null,
      "outputs": []
    },
    {
      "cell_type": "code",
      "metadata": {
        "colab": {
          "base_uri": "https://localhost:8080/",
          "height": 419
        },
        "id": "qnVjhVdzTY7A",
        "outputId": "4e88f472-70f1-4a68-fced-130b662d0ba4"
      },
      "source": [
        "invesco"
      ],
      "execution_count": null,
      "outputs": [
        {
          "output_type": "execute_result",
          "data": {
            "text/html": [
              "<div>\n",
              "<style scoped>\n",
              "    .dataframe tbody tr th:only-of-type {\n",
              "        vertical-align: middle;\n",
              "    }\n",
              "\n",
              "    .dataframe tbody tr th {\n",
              "        vertical-align: top;\n",
              "    }\n",
              "\n",
              "    .dataframe thead th {\n",
              "        text-align: right;\n",
              "    }\n",
              "</style>\n",
              "<table border=\"1\" class=\"dataframe\">\n",
              "  <thead>\n",
              "    <tr style=\"text-align: right;\">\n",
              "      <th></th>\n",
              "      <th>total_value($)</th>\n",
              "      <th>total_shares</th>\n",
              "      <th>weight(%)</th>\n",
              "    </tr>\n",
              "  </thead>\n",
              "  <tbody>\n",
              "    <tr>\n",
              "      <th>AAPL</th>\n",
              "      <td>1.669476e+10</td>\n",
              "      <td>137939056.0</td>\n",
              "      <td>10.477889</td>\n",
              "    </tr>\n",
              "    <tr>\n",
              "      <th>MSFT</th>\n",
              "      <td>1.444084e+10</td>\n",
              "      <td>61254870.0</td>\n",
              "      <td>9.063289</td>\n",
              "    </tr>\n",
              "    <tr>\n",
              "      <th>AMZN</th>\n",
              "      <td>1.255831e+10</td>\n",
              "      <td>4064850.0</td>\n",
              "      <td>7.881789</td>\n",
              "    </tr>\n",
              "    <tr>\n",
              "      <th>TSLA</th>\n",
              "      <td>6.650722e+09</td>\n",
              "      <td>9586902.0</td>\n",
              "      <td>4.174094</td>\n",
              "    </tr>\n",
              "    <tr>\n",
              "      <th>GOOG</th>\n",
              "      <td>5.509112e+09</td>\n",
              "      <td>2671836.0</td>\n",
              "      <td>3.457603</td>\n",
              "    </tr>\n",
              "    <tr>\n",
              "      <th>...</th>\n",
              "      <td>...</td>\n",
              "      <td>...</td>\n",
              "      <td>...</td>\n",
              "    </tr>\n",
              "    <tr>\n",
              "      <th>LNT</th>\n",
              "      <td>1.582164e+05</td>\n",
              "      <td>3095.0</td>\n",
              "      <td>0.000099</td>\n",
              "    </tr>\n",
              "    <tr>\n",
              "      <th>ES</th>\n",
              "      <td>1.554974e+05</td>\n",
              "      <td>1894.0</td>\n",
              "      <td>0.000098</td>\n",
              "    </tr>\n",
              "    <tr>\n",
              "      <th>VZ</th>\n",
              "      <td>1.551521e+05</td>\n",
              "      <td>2789.0</td>\n",
              "      <td>0.000097</td>\n",
              "    </tr>\n",
              "    <tr>\n",
              "      <th>MKC</th>\n",
              "      <td>1.542614e+05</td>\n",
              "      <td>1777.0</td>\n",
              "      <td>0.000097</td>\n",
              "    </tr>\n",
              "    <tr>\n",
              "      <th>GIS</th>\n",
              "      <td>1.541012e+05</td>\n",
              "      <td>2623.0</td>\n",
              "      <td>0.000097</td>\n",
              "    </tr>\n",
              "  </tbody>\n",
              "</table>\n",
              "<p>538 rows × 3 columns</p>\n",
              "</div>"
            ],
            "text/plain": [
              "      total_value($)  total_shares  weight(%)\n",
              "AAPL    1.669476e+10   137939056.0  10.477889\n",
              "MSFT    1.444084e+10    61254870.0   9.063289\n",
              "AMZN    1.255831e+10     4064850.0   7.881789\n",
              "TSLA    6.650722e+09     9586902.0   4.174094\n",
              "GOOG    5.509112e+09     2671836.0   3.457603\n",
              "...              ...           ...        ...\n",
              "LNT     1.582164e+05        3095.0   0.000099\n",
              "ES      1.554974e+05        1894.0   0.000098\n",
              "VZ      1.551521e+05        2789.0   0.000097\n",
              "MKC     1.542614e+05        1777.0   0.000097\n",
              "GIS     1.541012e+05        2623.0   0.000097\n",
              "\n",
              "[538 rows x 3 columns]"
            ]
          },
          "metadata": {
            "tags": []
          },
          "execution_count": 14
        }
      ]
    },
    {
      "cell_type": "code",
      "metadata": {
        "id": "3iYbKuyFnkKU",
        "colab": {
          "base_uri": "https://localhost:8080/",
          "height": 314
        },
        "outputId": "63cb7439-da31-4c42-b4d3-16bf59c07999"
      },
      "source": [
        "ax = invesco['weight(%)'].head(15).plot(kind='bar')\r\n",
        "ax.axhline(invesco['weight(%)'].mean(), color='red', linewidth=2, label='Mean')\r\n",
        "plt.text(13,0.6,'Mean')\r\n",
        "ax.set(ylabel='Weight(%)', title='Top tickers in Invesco')\r\n",
        "plt.show()"
      ],
      "execution_count": null,
      "outputs": [
        {
          "output_type": "display_data",
          "data": {
            "image/png": "[encoded data removed]",
            "text/plain": [
              "<Figure size 432x288 with 1 Axes>"
            ]
          },
          "metadata": {
            "tags": []
          }
        }
      ]
    },
    {
      "cell_type": "markdown",
      "metadata": {
        "id": "kazO7G3bkGNG"
      },
      "source": [
        "# Global X\r\n",
        "\r\n",
        "**[BOTZ](https://www.globalxetfs.com/funds/botz/):** Robotics & Artificial Intelligence.\r\n",
        "**[LIT](https://www.globalxetfs.com/funds/lit/):** Lithium & Battery Tech.\r\n",
        "\r\n",
        "**[CLOU](https://www.globalxetfs.com/funds/clou/):** Cloud Computing.\r\n",
        "**[FINX](https://www.globalxetfs.com/funds/finx/):** FinTech.\r\n",
        "\r\n",
        "**[PAVE](https://www.globalxetfs.com/funds/pave/):** U.S. Infrastructure Development.\r\n",
        "**[BUG](https://www.globalxetfs.com/funds/bug/):** Cybersecurity.\r\n",
        "\r\n",
        "**[HERO](https://www.globalxetfs.com/funds/hero/):** Video Games & Esports.\r\n",
        "**[DRIV](https://www.globalxetfs.com/funds/driv/):** Autonomous & Electric Vehicles.\r\n",
        "\r\n",
        "**[EDOC](https://www.globalxetfs.com/funds/edoc/):** Telemedicine & Digital Health.\r\n",
        "**[SNSR](https://www.globalxetfs.com/funds/snsr/):** Internet of Things.\r\n",
        "\r\n",
        "**[EBIZ](https://www.globalxetfs.com/funds/ebiz/):** E-commerce.\r\n",
        "**[GNOM](https://www.globalxetfs.com/funds/gnom/):** Genomics & Biotechnology.\r\n",
        "\r\n",
        "**[MILN](https://www.globalxetfs.com/funds/miln/):** Millennials Thematic.\r\n",
        "**[RNRG](https://www.globalxetfs.com/funds/rnrg/):** Renewable Energy Producers.\r\n",
        "\r\n",
        "**[BFIT](https://www.globalxetfs.com/funds/bfit/):** Health & Wellness Thematic.\r\n",
        "**[VPN](https://www.globalxetfs.com/funds/vpn/):** Data Center REITs & Digital Infrastructure\r\n"
      ]
    },
    {
      "cell_type": "code",
      "metadata": {
        "id": "73XEedi0kFQD"
      },
      "source": [
        "globalX_holdings = {\r\n",
        "    'botz': 'https://www.globalxetfs.com/funds/botz/?download_full_holdings=true',\r\n",
        "    'lit': 'https://www.globalxetfs.com/funds/lit/?download_full_holdings=true',\r\n",
        "    'clou': 'https://www.globalxetfs.com/funds/clou/?download_full_holdings=true',\r\n",
        "    'finx': 'https://www.globalxetfs.com/funds/finx/?download_full_holdings=true',\r\n",
        "    'pave': 'https://www.globalxetfs.com/funds/pave/?download_full_holdings=true',\r\n",
        "    'bug': 'https://www.globalxetfs.com/funds/bug/?download_full_holdings=true',\r\n",
        "    'hero': 'https://www.globalxetfs.com/funds/hero/?download_full_holdings=true',\r\n",
        "    'driv': 'https://www.globalxetfs.com/funds/driv/?download_full_holdings=true',\r\n",
        "    'edoc': 'https://www.globalxetfs.com/funds/edoc/?download_full_holdings=true',\r\n",
        "    'snsr': 'https://www.globalxetfs.com/funds/snsr/?download_full_holdings=true',\r\n",
        "    'ebiz': 'https://www.globalxetfs.com/funds/ebiz/?download_full_holdings=true',\r\n",
        "    'gnom': 'https://www.globalxetfs.com/funds/gnom/?download_full_holdings=true',\r\n",
        "    'miln': 'https://www.globalxetfs.com/funds/miln/?download_full_holdings=true',\r\n",
        "    'rnrg': 'https://www.globalxetfs.com/funds/rnrg/?download_full_holdings=true',\r\n",
        "    'bfit': 'https://www.globalxetfs.com/funds/bfit/?download_full_holdings=true',\r\n",
        "    'vpn': 'https://www.globalxetfs.com/funds/vpn/?download_full_holdings=true'\r\n",
        "}\r\n",
        "\r\n",
        "globalX = pd.DataFrame(columns=['Market Value ($)', '% of Net Assets', 'Shares Held'])\r\n",
        "\r\n",
        "for url in globalX_holdings.values():\r\n",
        "  req = requests.get(url, headers=headers)\r\n",
        "  url_data = StringIO(req.text)\r\n",
        "  df = pd.read_csv(url_data, skiprows=2)\r\n",
        "  df.drop(['Name','SEDOL','Market Price ($)'], axis=1, inplace=True)\r\n",
        "  df['Ticker'] = df['Ticker'].str.split(' ').str[0]\r\n",
        "  df.set_index('Ticker', inplace=True)\r\n",
        "  df = df[~df.index.duplicated(keep='first')]\r\n",
        "  df = df.replace(',','', regex=True)\r\n",
        "  df = df.astype('float64')\r\n",
        "  df = df[(df['Market Value ($)'] > 0) & (df['% of Net Assets'] > 0)]\r\n",
        "  df.dropna(inplace=True)\r\n",
        "  globalX = pd.concat([globalX, df])"
      ],
      "execution_count": null,
      "outputs": []
    },
    {
      "cell_type": "code",
      "metadata": {
        "id": "sluAhfF1VKe6"
      },
      "source": [
        "globalX['total_value($)'] = globalX.groupby(globalX.index)['Market Value ($)'].sum()\r\n",
        "globalX['total_shares'] = globalX.groupby(globalX.index)['Shares Held'].sum()\r\n",
        "globalX = globalX[~globalX.index.duplicated(keep='first')]\r\n",
        "globalX.drop(['Market Value ($)','% of Net Assets','Shares Held'], axis=1, inplace=True)\r\n",
        "globalX.dropna(inplace=True)\r\n",
        "globalX['weight(%)'] = globalX.apply(lambda x: (x['total_value($)']/globalX['total_value($)'].sum())*100 , axis=1)\r\n",
        "globalX.sort_values(by=['weight(%)'], ascending=False, inplace=True)"
      ],
      "execution_count": null,
      "outputs": []
    },
    {
      "cell_type": "code",
      "metadata": {
        "colab": {
          "base_uri": "https://localhost:8080/",
          "height": 419
        },
        "id": "8xEyUXmOVYrP",
        "outputId": "d851e8e2-5918-4e54-8c3e-49d49f23ab9b"
      },
      "source": [
        "globalX"
      ],
      "execution_count": null,
      "outputs": [
        {
          "output_type": "execute_result",
          "data": {
            "text/html": [
              "<div>\n",
              "<style scoped>\n",
              "    .dataframe tbody tr th:only-of-type {\n",
              "        vertical-align: middle;\n",
              "    }\n",
              "\n",
              "    .dataframe tbody tr th {\n",
              "        vertical-align: top;\n",
              "    }\n",
              "\n",
              "    .dataframe thead th {\n",
              "        text-align: right;\n",
              "    }\n",
              "</style>\n",
              "<table border=\"1\" class=\"dataframe\">\n",
              "  <thead>\n",
              "    <tr style=\"text-align: right;\">\n",
              "      <th></th>\n",
              "      <th>total_value($)</th>\n",
              "      <th>total_shares</th>\n",
              "      <th>weight(%)</th>\n",
              "    </tr>\n",
              "  </thead>\n",
              "  <tbody>\n",
              "    <tr>\n",
              "      <th>ALB</th>\n",
              "      <td>3.639343e+08</td>\n",
              "      <td>2313926.0</td>\n",
              "      <td>2.532488</td>\n",
              "    </tr>\n",
              "    <tr>\n",
              "      <th>NVDA</th>\n",
              "      <td>2.615641e+08</td>\n",
              "      <td>508642.0</td>\n",
              "      <td>1.820130</td>\n",
              "    </tr>\n",
              "    <tr>\n",
              "      <th>ABBN</th>\n",
              "      <td>2.071713e+08</td>\n",
              "      <td>6763277.0</td>\n",
              "      <td>1.441631</td>\n",
              "    </tr>\n",
              "    <tr>\n",
              "      <th>6954</th>\n",
              "      <td>1.951638e+08</td>\n",
              "      <td>781121.0</td>\n",
              "      <td>1.358075</td>\n",
              "    </tr>\n",
              "    <tr>\n",
              "      <th>ISRG</th>\n",
              "      <td>1.763932e+08</td>\n",
              "      <td>240321.0</td>\n",
              "      <td>1.227457</td>\n",
              "    </tr>\n",
              "    <tr>\n",
              "      <th>...</th>\n",
              "      <td>...</td>\n",
              "      <td>...</td>\n",
              "      <td>...</td>\n",
              "    </tr>\n",
              "    <tr>\n",
              "      <th>BRBR</th>\n",
              "      <td>1.145060e+05</td>\n",
              "      <td>4399.0</td>\n",
              "      <td>0.000797</td>\n",
              "    </tr>\n",
              "    <tr>\n",
              "      <th>1736</th>\n",
              "      <td>1.089377e+05</td>\n",
              "      <td>34200.0</td>\n",
              "      <td>0.000758</td>\n",
              "    </tr>\n",
              "    <tr>\n",
              "      <th>1686</th>\n",
              "      <td>1.072834e+05</td>\n",
              "      <td>106681.0</td>\n",
              "      <td>0.000747</td>\n",
              "    </tr>\n",
              "    <tr>\n",
              "      <th>9802</th>\n",
              "      <td>8.648401e+04</td>\n",
              "      <td>21086.0</td>\n",
              "      <td>0.000602</td>\n",
              "    </tr>\n",
              "    <tr>\n",
              "      <th>OSTKO</th>\n",
              "      <td>2.537295e+04</td>\n",
              "      <td>366.0</td>\n",
              "      <td>0.000177</td>\n",
              "    </tr>\n",
              "  </tbody>\n",
              "</table>\n",
              "<p>675 rows × 3 columns</p>\n",
              "</div>"
            ],
            "text/plain": [
              "       total_value($)  total_shares  weight(%)\n",
              "ALB      3.639343e+08     2313926.0   2.532488\n",
              "NVDA     2.615641e+08      508642.0   1.820130\n",
              "ABBN     2.071713e+08     6763277.0   1.441631\n",
              "6954     1.951638e+08      781121.0   1.358075\n",
              "ISRG     1.763932e+08      240321.0   1.227457\n",
              "...               ...           ...        ...\n",
              "BRBR     1.145060e+05        4399.0   0.000797\n",
              "1736     1.089377e+05       34200.0   0.000758\n",
              "1686     1.072834e+05      106681.0   0.000747\n",
              "9802     8.648401e+04       21086.0   0.000602\n",
              "OSTKO    2.537295e+04         366.0   0.000177\n",
              "\n",
              "[675 rows x 3 columns]"
            ]
          },
          "metadata": {
            "tags": []
          },
          "execution_count": 18
        }
      ]
    },
    {
      "cell_type": "code",
      "metadata": {
        "id": "w-ri7qDFnoDN",
        "colab": {
          "base_uri": "https://localhost:8080/",
          "height": 316
        },
        "outputId": "35ee6a67-086e-4cd0-f87f-2b70482785dd"
      },
      "source": [
        "ax = globalX['weight(%)'].head(15).plot(kind='bar')\r\n",
        "ax.axhline(globalX['weight(%)'].mean(), color='red', linewidth=2, label='Mean')\r\n",
        "plt.text(13,0.2,'Mean')\r\n",
        "ax.set(ylabel='Weight(%)', title='Top tickers in Global X')\r\n",
        "plt.show()"
      ],
      "execution_count": null,
      "outputs": [
        {
          "output_type": "display_data",
          "data": {
            "image/png": "[encoded data removed]",
            "text/plain": [
              "<Figure size 432x288 with 1 Axes>"
            ]
          },
          "metadata": {
            "tags": []
          }
        }
      ]
    },
    {
      "cell_type": "markdown",
      "metadata": {
        "id": "diRC9_oyPpGi"
      },
      "source": [
        "# Combined ETF\r\n",
        "\r\n",
        "MOST OCURRING TICKERS AND TICKERS THAT ARE OVERSOLD IN THE LAST TIME BUT NOT BY FUNDS\r\n",
        "\r\n"
      ]
    },
    {
      "cell_type": "code",
      "metadata": {
        "id": "OHg-uscIns2T"
      },
      "source": [
        "etfs_list = [ark, iShares, invesco, globalX]\r\n",
        "etfs = pd.concat(etfs_list)"
      ],
      "execution_count": null,
      "outputs": []
    },
    {
      "cell_type": "code",
      "metadata": {
        "id": "X1NwtibSYo09"
      },
      "source": [
        "etfs['Total Value($)'] = etfs.groupby(etfs.index)['total_value($)'].sum()\r\n",
        "etfs['Total Shares'] = etfs.groupby(etfs.index)['total_shares'].sum()\r\n",
        "etfs = etfs[~etfs.index.duplicated(keep='first')]\r\n",
        "etfs.drop(['total_value($)','weight(%)','total_shares'], axis=1, inplace=True)\r\n",
        "etfs.dropna(inplace=True)\r\n",
        "etfs['Weight(%)'] = etfs.apply(lambda x: (x['Total Value($)']/etfs['Total Value($)'].sum())*100 , axis=1)\r\n",
        "etfs.sort_values(by=['Weight(%)'], ascending=False, inplace=True)"
      ],
      "execution_count": null,
      "outputs": []
    },
    {
      "cell_type": "code",
      "metadata": {
        "colab": {
          "base_uri": "https://localhost:8080/",
          "height": 514
        },
        "id": "BlML--M6ZJmc",
        "outputId": "f3a90f1a-1901-4e69-9298-daa5559630f7"
      },
      "source": [
        "etfs.head(15) #combined etf"
      ],
      "execution_count": null,
      "outputs": [
        {
          "output_type": "execute_result",
          "data": {
            "text/html": [
              "<div>\n",
              "<style scoped>\n",
              "    .dataframe tbody tr th:only-of-type {\n",
              "        vertical-align: middle;\n",
              "    }\n",
              "\n",
              "    .dataframe tbody tr th {\n",
              "        vertical-align: top;\n",
              "    }\n",
              "\n",
              "    .dataframe thead th {\n",
              "        text-align: right;\n",
              "    }\n",
              "</style>\n",
              "<table border=\"1\" class=\"dataframe\">\n",
              "  <thead>\n",
              "    <tr style=\"text-align: right;\">\n",
              "      <th></th>\n",
              "      <th>Total Value($)</th>\n",
              "      <th>Total Shares</th>\n",
              "      <th>Weight(%)</th>\n",
              "    </tr>\n",
              "  </thead>\n",
              "  <tbody>\n",
              "    <tr>\n",
              "      <th>AAPL</th>\n",
              "      <td>2.857846e+10</td>\n",
              "      <td>236122061.0</td>\n",
              "      <td>5.630062</td>\n",
              "    </tr>\n",
              "    <tr>\n",
              "      <th>MSFT</th>\n",
              "      <td>2.586142e+10</td>\n",
              "      <td>109697856.0</td>\n",
              "      <td>5.094795</td>\n",
              "    </tr>\n",
              "    <tr>\n",
              "      <th>AMZN</th>\n",
              "      <td>1.952807e+10</td>\n",
              "      <td>6320622.0</td>\n",
              "      <td>3.847102</td>\n",
              "    </tr>\n",
              "    <tr>\n",
              "      <th>TSLA</th>\n",
              "      <td>1.336352e+10</td>\n",
              "      <td>19217341.0</td>\n",
              "      <td>2.632663</td>\n",
              "    </tr>\n",
              "    <tr>\n",
              "      <th>FB</th>\n",
              "      <td>9.270614e+09</td>\n",
              "      <td>34530433.0</td>\n",
              "      <td>1.826345</td>\n",
              "    </tr>\n",
              "    <tr>\n",
              "      <th>GOOG</th>\n",
              "      <td>8.634237e+09</td>\n",
              "      <td>4185855.0</td>\n",
              "      <td>1.700977</td>\n",
              "    </tr>\n",
              "    <tr>\n",
              "      <th>GOOGL</th>\n",
              "      <td>8.112254e+09</td>\n",
              "      <td>3957177.0</td>\n",
              "      <td>1.598144</td>\n",
              "    </tr>\n",
              "    <tr>\n",
              "      <th>NVDA</th>\n",
              "      <td>6.544926e+09</td>\n",
              "      <td>12723515.0</td>\n",
              "      <td>1.289375</td>\n",
              "    </tr>\n",
              "    <tr>\n",
              "      <th>PYPL</th>\n",
              "      <td>6.047738e+09</td>\n",
              "      <td>24119186.0</td>\n",
              "      <td>1.191427</td>\n",
              "    </tr>\n",
              "    <tr>\n",
              "      <th>2330</th>\n",
              "      <td>4.728601e+09</td>\n",
              "      <td>216872600.0</td>\n",
              "      <td>0.931552</td>\n",
              "    </tr>\n",
              "    <tr>\n",
              "      <th>ADBE</th>\n",
              "      <td>4.644058e+09</td>\n",
              "      <td>10449874.0</td>\n",
              "      <td>0.914897</td>\n",
              "    </tr>\n",
              "    <tr>\n",
              "      <th>INTC</th>\n",
              "      <td>4.283499e+09</td>\n",
              "      <td>68100146.0</td>\n",
              "      <td>0.843865</td>\n",
              "    </tr>\n",
              "    <tr>\n",
              "      <th>NFLX</th>\n",
              "      <td>4.192720e+09</td>\n",
              "      <td>8091053.0</td>\n",
              "      <td>0.825981</td>\n",
              "    </tr>\n",
              "    <tr>\n",
              "      <th>700</th>\n",
              "      <td>4.080464e+09</td>\n",
              "      <td>48715600.0</td>\n",
              "      <td>0.803867</td>\n",
              "    </tr>\n",
              "    <tr>\n",
              "      <th>BABA</th>\n",
              "      <td>3.893080e+09</td>\n",
              "      <td>16766152.0</td>\n",
              "      <td>0.766951</td>\n",
              "    </tr>\n",
              "  </tbody>\n",
              "</table>\n",
              "</div>"
            ],
            "text/plain": [
              "       Total Value($)  Total Shares  Weight(%)\n",
              "AAPL     2.857846e+10   236122061.0   5.630062\n",
              "MSFT     2.586142e+10   109697856.0   5.094795\n",
              "AMZN     1.952807e+10     6320622.0   3.847102\n",
              "TSLA     1.336352e+10    19217341.0   2.632663\n",
              "FB       9.270614e+09    34530433.0   1.826345\n",
              "GOOG     8.634237e+09     4185855.0   1.700977\n",
              "GOOGL    8.112254e+09     3957177.0   1.598144\n",
              "NVDA     6.544926e+09    12723515.0   1.289375\n",
              "PYPL     6.047738e+09    24119186.0   1.191427\n",
              "2330     4.728601e+09   216872600.0   0.931552\n",
              "ADBE     4.644058e+09    10449874.0   0.914897\n",
              "INTC     4.283499e+09    68100146.0   0.843865\n",
              "NFLX     4.192720e+09     8091053.0   0.825981\n",
              "700      4.080464e+09    48715600.0   0.803867\n",
              "BABA     3.893080e+09    16766152.0   0.766951"
            ]
          },
          "metadata": {
            "tags": []
          },
          "execution_count": 22
        }
      ]
    },
    {
      "cell_type": "markdown",
      "metadata": {
        "id": "a-n8ZjsqxiQx"
      },
      "source": [
        "## Here we use FinViz scanner to scan for the stocks with low Price-to-Book ratio.\r\n",
        "\r\n",
        "James O'Shaughnessy in his book 'What works on Wall Streat' suggests to use companies with a value of P/B under 1.4, FinViz does not give an oppotuinity to use exactly 1.4, that's why we are going to use a value of 2. Also we are leveraging price-to-cashflow here. "
      ]
    },
    {
      "cell_type": "code",
      "metadata": {
        "id": "4P_BJHxFt15I"
      },
      "source": [
        "filters_growth = ['fa_pb_u2','fa_pfcf_u20','cap_smallover','fa_pe_u40']  \r\n",
        "stock_list_growth = Screener(filters=filters_growth, table='Valuation', order='Volume') \r\n",
        "stock_list_growth.to_csv(\"stocks_growth.csv\")\r\n",
        "stocks_growth = pd.read_csv('stocks_growth.csv', index_col=['Ticker'])"
      ],
      "execution_count": null,
      "outputs": []
    },
    {
      "cell_type": "code",
      "metadata": {
        "colab": {
          "base_uri": "https://localhost:8080/",
          "height": 390
        },
        "id": "1je8y2QzQfP-",
        "outputId": "005d4aec-4b34-4e0e-b903-88c299805609"
      },
      "source": [
        "stocks_growth.tail(10)"
      ],
      "execution_count": null,
      "outputs": [
        {
          "output_type": "execute_result",
          "data": {
            "text/html": [
              "<div>\n",
              "<style scoped>\n",
              "    .dataframe tbody tr th:only-of-type {\n",
              "        vertical-align: middle;\n",
              "    }\n",
              "\n",
              "    .dataframe tbody tr th {\n",
              "        vertical-align: top;\n",
              "    }\n",
              "\n",
              "    .dataframe thead th {\n",
              "        text-align: right;\n",
              "    }\n",
              "</style>\n",
              "<table border=\"1\" class=\"dataframe\">\n",
              "  <thead>\n",
              "    <tr style=\"text-align: right;\">\n",
              "      <th></th>\n",
              "      <th>No.</th>\n",
              "      <th>Market Cap</th>\n",
              "      <th>P/E</th>\n",
              "      <th>Fwd P/E</th>\n",
              "      <th>PEG</th>\n",
              "      <th>P/S</th>\n",
              "      <th>P/B</th>\n",
              "      <th>P/C</th>\n",
              "      <th>P/FCF</th>\n",
              "      <th>EPS this Y</th>\n",
              "      <th>EPS next Y</th>\n",
              "      <th>EPS past 5Y</th>\n",
              "      <th>EPS next 5Y</th>\n",
              "      <th>Sales past 5Y</th>\n",
              "      <th>Price</th>\n",
              "      <th>Change</th>\n",
              "      <th>Volume</th>\n",
              "    </tr>\n",
              "    <tr>\n",
              "      <th>Ticker</th>\n",
              "      <th></th>\n",
              "      <th></th>\n",
              "      <th></th>\n",
              "      <th></th>\n",
              "      <th></th>\n",
              "      <th></th>\n",
              "      <th></th>\n",
              "      <th></th>\n",
              "      <th></th>\n",
              "      <th></th>\n",
              "      <th></th>\n",
              "      <th></th>\n",
              "      <th></th>\n",
              "      <th></th>\n",
              "      <th></th>\n",
              "      <th></th>\n",
              "      <th></th>\n",
              "    </tr>\n",
              "  </thead>\n",
              "  <tbody>\n",
              "    <tr>\n",
              "      <th>CVS</th>\n",
              "      <td>282</td>\n",
              "      <td>94.88B</td>\n",
              "      <td>13.51</td>\n",
              "      <td>9.11</td>\n",
              "      <td>3.58</td>\n",
              "      <td>0.35</td>\n",
              "      <td>1.40</td>\n",
              "      <td>8.74</td>\n",
              "      <td>8.78</td>\n",
              "      <td>7.60%</td>\n",
              "      <td>8.19%</td>\n",
              "      <td>3.30%</td>\n",
              "      <td>3.77%</td>\n",
              "      <td>11.90%</td>\n",
              "      <td>73.92</td>\n",
              "      <td>2.17%</td>\n",
              "      <td>6,281,234</td>\n",
              "    </tr>\n",
              "    <tr>\n",
              "      <th>GNW</th>\n",
              "      <td>283</td>\n",
              "      <td>1.79B</td>\n",
              "      <td>2.54</td>\n",
              "      <td>2.96</td>\n",
              "      <td>0.51</td>\n",
              "      <td>0.21</td>\n",
              "      <td>0.12</td>\n",
              "      <td>0.67</td>\n",
              "      <td>0.91</td>\n",
              "      <td>59.20%</td>\n",
              "      <td>24.66%</td>\n",
              "      <td>40.10%</td>\n",
              "      <td>5.00%</td>\n",
              "      <td>0.20%</td>\n",
              "      <td>3.55</td>\n",
              "      <td>0.28%</td>\n",
              "      <td>6,541,077</td>\n",
              "    </tr>\n",
              "    <tr>\n",
              "      <th>RF</th>\n",
              "      <td>284</td>\n",
              "      <td>20.60B</td>\n",
              "      <td>21.26</td>\n",
              "      <td>11.60</td>\n",
              "      <td>-</td>\n",
              "      <td>4.83</td>\n",
              "      <td>1.27</td>\n",
              "      <td>1.15</td>\n",
              "      <td>12.91</td>\n",
              "      <td>-31.50%</td>\n",
              "      <td>1.73%</td>\n",
              "      <td>6.30%</td>\n",
              "      <td>-</td>\n",
              "      <td>3.40%</td>\n",
              "      <td>21.86</td>\n",
              "      <td>1.96%</td>\n",
              "      <td>7,788,634</td>\n",
              "    </tr>\n",
              "    <tr>\n",
              "      <th>GGB</th>\n",
              "      <td>285</td>\n",
              "      <td>7.95B</td>\n",
              "      <td>19.56</td>\n",
              "      <td>9.55</td>\n",
              "      <td>3.66</td>\n",
              "      <td>1.00</td>\n",
              "      <td>1.50</td>\n",
              "      <td>5.75</td>\n",
              "      <td>9.82</td>\n",
              "      <td>96.20%</td>\n",
              "      <td>65.81%</td>\n",
              "      <td>20.30%</td>\n",
              "      <td>5.35%</td>\n",
              "      <td>0.10%</td>\n",
              "      <td>4.91</td>\n",
              "      <td>-1.92%</td>\n",
              "      <td>8,505,819</td>\n",
              "    </tr>\n",
              "    <tr>\n",
              "      <th>GOLD</th>\n",
              "      <td>286</td>\n",
              "      <td>35.89B</td>\n",
              "      <td>15.55</td>\n",
              "      <td>15.28</td>\n",
              "      <td>0.64</td>\n",
              "      <td>2.85</td>\n",
              "      <td>1.55</td>\n",
              "      <td>6.92</td>\n",
              "      <td>12.75</td>\n",
              "      <td>-42.10%</td>\n",
              "      <td>0.23%</td>\n",
              "      <td>20.50%</td>\n",
              "      <td>24.20%</td>\n",
              "      <td>6.90%</td>\n",
              "      <td>20.32</td>\n",
              "      <td>0.05%</td>\n",
              "      <td>12,694,055</td>\n",
              "    </tr>\n",
              "    <tr>\n",
              "      <th>VST</th>\n",
              "      <td>287</td>\n",
              "      <td>9.10B</td>\n",
              "      <td>14.20</td>\n",
              "      <td>10.27</td>\n",
              "      <td>0.62</td>\n",
              "      <td>0.80</td>\n",
              "      <td>1.08</td>\n",
              "      <td>22.41</td>\n",
              "      <td>5.02</td>\n",
              "      <td>-30.20%</td>\n",
              "      <td>130.21%</td>\n",
              "      <td>16.20%</td>\n",
              "      <td>22.90%</td>\n",
              "      <td>16.30%</td>\n",
              "      <td>18.40</td>\n",
              "      <td>-2.18%</td>\n",
              "      <td>12,752,376</td>\n",
              "    </tr>\n",
              "    <tr>\n",
              "      <th>KGC</th>\n",
              "      <td>288</td>\n",
              "      <td>8.57B</td>\n",
              "      <td>6.36</td>\n",
              "      <td>6.50</td>\n",
              "      <td>-</td>\n",
              "      <td>2.03</td>\n",
              "      <td>1.28</td>\n",
              "      <td>7.08</td>\n",
              "      <td>8.23</td>\n",
              "      <td>71.20%</td>\n",
              "      <td>38.87%</td>\n",
              "      <td>25.70%</td>\n",
              "      <td>-7.30%</td>\n",
              "      <td>6.70%</td>\n",
              "      <td>6.73</td>\n",
              "      <td>-1.17%</td>\n",
              "      <td>13,027,329</td>\n",
              "    </tr>\n",
              "    <tr>\n",
              "      <th>GM</th>\n",
              "      <td>289</td>\n",
              "      <td>81.17B</td>\n",
              "      <td>13.71</td>\n",
              "      <td>9.49</td>\n",
              "      <td>1.16</td>\n",
              "      <td>0.66</td>\n",
              "      <td>1.89</td>\n",
              "      <td>2.80</td>\n",
              "      <td>7.58</td>\n",
              "      <td>-5.30%</td>\n",
              "      <td>20.45%</td>\n",
              "      <td>-6.00%</td>\n",
              "      <td>11.84%</td>\n",
              "      <td>-2.00%</td>\n",
              "      <td>59.26</td>\n",
              "      <td>5.20%</td>\n",
              "      <td>29,755,497</td>\n",
              "    </tr>\n",
              "    <tr>\n",
              "      <th>ITUB</th>\n",
              "      <td>290</td>\n",
              "      <td>44.79B</td>\n",
              "      <td>13.97</td>\n",
              "      <td>8.98</td>\n",
              "      <td>9.31</td>\n",
              "      <td>1.92</td>\n",
              "      <td>1.83</td>\n",
              "      <td>0.24</td>\n",
              "      <td>5.36</td>\n",
              "      <td>-30.40%</td>\n",
              "      <td>16.09%</td>\n",
              "      <td>-4.80%</td>\n",
              "      <td>1.50%</td>\n",
              "      <td>-2.70%</td>\n",
              "      <td>4.86</td>\n",
              "      <td>-1.22%</td>\n",
              "      <td>36,297,054</td>\n",
              "    </tr>\n",
              "    <tr>\n",
              "      <th>BAC</th>\n",
              "      <td>291</td>\n",
              "      <td>321.28B</td>\n",
              "      <td>20.26</td>\n",
              "      <td>13.27</td>\n",
              "      <td>18.23</td>\n",
              "      <td>6.23</td>\n",
              "      <td>1.33</td>\n",
              "      <td>0.34</td>\n",
              "      <td>10.14</td>\n",
              "      <td>-32.00%</td>\n",
              "      <td>17.12%</td>\n",
              "      <td>7.40%</td>\n",
              "      <td>1.11%</td>\n",
              "      <td>0.80%</td>\n",
              "      <td>37.94</td>\n",
              "      <td>1.88%</td>\n",
              "      <td>45,952,661</td>\n",
              "    </tr>\n",
              "  </tbody>\n",
              "</table>\n",
              "</div>"
            ],
            "text/plain": [
              "        No. Market Cap    P/E Fwd P/E  ... Sales past 5Y  Price  Change      Volume\n",
              "Ticker                                 ...                                         \n",
              "CVS     282     94.88B  13.51    9.11  ...        11.90%  73.92   2.17%   6,281,234\n",
              "GNW     283      1.79B   2.54    2.96  ...         0.20%   3.55   0.28%   6,541,077\n",
              "RF      284     20.60B  21.26   11.60  ...         3.40%  21.86   1.96%   7,788,634\n",
              "GGB     285      7.95B  19.56    9.55  ...         0.10%   4.91  -1.92%   8,505,819\n",
              "GOLD    286     35.89B  15.55   15.28  ...         6.90%  20.32   0.05%  12,694,055\n",
              "VST     287      9.10B  14.20   10.27  ...        16.30%  18.40  -2.18%  12,752,376\n",
              "KGC     288      8.57B   6.36    6.50  ...         6.70%   6.73  -1.17%  13,027,329\n",
              "GM      289     81.17B  13.71    9.49  ...        -2.00%  59.26   5.20%  29,755,497\n",
              "ITUB    290     44.79B  13.97    8.98  ...        -2.70%   4.86  -1.22%  36,297,054\n",
              "BAC     291    321.28B  20.26   13.27  ...         0.80%  37.94   1.88%  45,952,661\n",
              "\n",
              "[10 rows x 17 columns]"
            ]
          },
          "metadata": {
            "tags": []
          },
          "execution_count": 25
        }
      ]
    },
    {
      "cell_type": "code",
      "metadata": {
        "id": "uA9S-BR-ST2Z"
      },
      "source": [
        "tickers = stocks_growth.index.to_list()\r\n",
        "buys = etfs[etfs.index.isin(tickers)][(etfs['Weight(%)'] > 0.01)]\r\n",
        "buys['Weight(%)'] = buys.apply(lambda x: (x['Total Value($)']/buys['Total Value($)'].sum())*100 , axis=1)\r\n",
        "buys['Price']=stocks_growth[stocks_growth.index.isin(tickers)]['Price']"
      ],
      "execution_count": null,
      "outputs": []
    },
    {
      "cell_type": "code",
      "metadata": {
        "colab": {
          "base_uri": "https://localhost:8080/",
          "height": 359
        },
        "id": "Es4-9p9kUnq1",
        "outputId": "db2ee0a5-a25c-4e93-c11a-d4e87907acfb"
      },
      "source": [
        "buys.head(10)"
      ],
      "execution_count": null,
      "outputs": [
        {
          "output_type": "execute_result",
          "data": {
            "text/html": [
              "<div>\n",
              "<style scoped>\n",
              "    .dataframe tbody tr th:only-of-type {\n",
              "        vertical-align: middle;\n",
              "    }\n",
              "\n",
              "    .dataframe tbody tr th {\n",
              "        vertical-align: top;\n",
              "    }\n",
              "\n",
              "    .dataframe thead th {\n",
              "        text-align: right;\n",
              "    }\n",
              "</style>\n",
              "<table border=\"1\" class=\"dataframe\">\n",
              "  <thead>\n",
              "    <tr style=\"text-align: right;\">\n",
              "      <th></th>\n",
              "      <th>Total Value($)</th>\n",
              "      <th>Total Shares</th>\n",
              "      <th>Weight(%)</th>\n",
              "      <th>Price</th>\n",
              "    </tr>\n",
              "  </thead>\n",
              "  <tbody>\n",
              "    <tr>\n",
              "      <th>AEP</th>\n",
              "      <td>4.959833e+08</td>\n",
              "      <td>6120228.0</td>\n",
              "      <td>8.422908</td>\n",
              "      <td>81.04</td>\n",
              "    </tr>\n",
              "    <tr>\n",
              "      <th>RS</th>\n",
              "      <td>2.794379e+08</td>\n",
              "      <td>1828423.0</td>\n",
              "      <td>4.745482</td>\n",
              "      <td>152.83</td>\n",
              "    </tr>\n",
              "    <tr>\n",
              "      <th>JLL</th>\n",
              "      <td>2.375788e+08</td>\n",
              "      <td>1351415.0</td>\n",
              "      <td>4.034620</td>\n",
              "      <td>175.80</td>\n",
              "    </tr>\n",
              "    <tr>\n",
              "      <th>RNR</th>\n",
              "      <td>2.310630e+08</td>\n",
              "      <td>1393121.0</td>\n",
              "      <td>3.923968</td>\n",
              "      <td>165.86</td>\n",
              "    </tr>\n",
              "    <tr>\n",
              "      <th>RGA</th>\n",
              "      <td>2.309143e+08</td>\n",
              "      <td>1789617.0</td>\n",
              "      <td>3.921442</td>\n",
              "      <td>129.03</td>\n",
              "    </tr>\n",
              "    <tr>\n",
              "      <th>AFG</th>\n",
              "      <td>2.182258e+08</td>\n",
              "      <td>1852983.0</td>\n",
              "      <td>3.705963</td>\n",
              "      <td>117.77</td>\n",
              "    </tr>\n",
              "    <tr>\n",
              "      <th>ARW</th>\n",
              "      <td>2.094893e+08</td>\n",
              "      <td>1990019.0</td>\n",
              "      <td>3.557598</td>\n",
              "      <td>105.27</td>\n",
              "    </tr>\n",
              "    <tr>\n",
              "      <th>SF</th>\n",
              "      <td>2.017623e+08</td>\n",
              "      <td>4537711.0</td>\n",
              "      <td>3.426377</td>\n",
              "      <td>67.23</td>\n",
              "    </tr>\n",
              "    <tr>\n",
              "      <th>PB</th>\n",
              "      <td>1.962246e+08</td>\n",
              "      <td>2438179.0</td>\n",
              "      <td>3.332334</td>\n",
              "      <td>80.48</td>\n",
              "    </tr>\n",
              "    <tr>\n",
              "      <th>JEF</th>\n",
              "      <td>1.804764e+08</td>\n",
              "      <td>5455756.0</td>\n",
              "      <td>3.064894</td>\n",
              "      <td>33.08</td>\n",
              "    </tr>\n",
              "  </tbody>\n",
              "</table>\n",
              "</div>"
            ],
            "text/plain": [
              "     Total Value($)  Total Shares  Weight(%)   Price\n",
              "AEP    4.959833e+08     6120228.0   8.422908   81.04\n",
              "RS     2.794379e+08     1828423.0   4.745482  152.83\n",
              "JLL    2.375788e+08     1351415.0   4.034620  175.80\n",
              "RNR    2.310630e+08     1393121.0   3.923968  165.86\n",
              "RGA    2.309143e+08     1789617.0   3.921442  129.03\n",
              "AFG    2.182258e+08     1852983.0   3.705963  117.77\n",
              "ARW    2.094893e+08     1990019.0   3.557598  105.27\n",
              "SF     2.017623e+08     4537711.0   3.426377   67.23\n",
              "PB     1.962246e+08     2438179.0   3.332334   80.48\n",
              "JEF    1.804764e+08     5455756.0   3.064894   33.08"
            ]
          },
          "metadata": {
            "tags": []
          },
          "execution_count": 27
        }
      ]
    },
    {
      "cell_type": "code",
      "metadata": {
        "id": "nVQ7vWU-YfdC",
        "colab": {
          "base_uri": "https://localhost:8080/",
          "height": 360
        },
        "outputId": "389ae5bb-fbee-40ba-c8fb-663b4640b80d"
      },
      "source": [
        "plt.figure(figsize=(10,5))\r\n",
        "ax = buys['Weight(%)'].sort_values(ascending=False).plot(kind='bar')\r\n",
        "ax.axhline(buys['Weight(%)'].mean(), color='red', linewidth=2, label='Mean')\r\n",
        "plt.text(20,2.5,'Mean')\r\n",
        "ax.set(ylabel='Weight(%)', title='Recommended growth portfolio')\r\n",
        "plt.show()"
      ],
      "execution_count": null,
      "outputs": [
        {
          "output_type": "display_data",
          "data": {
            "image/png": "[encoded data removed]",
            "text/plain": [
              "<Figure size 720x360 with 1 Axes>"
            ]
          },
          "metadata": {
            "tags": []
          }
        }
      ]
    },
    {
      "cell_type": "markdown",
      "metadata": {
        "id": "gntVArJaTI22"
      },
      "source": [
        "NON US STOCKS"
      ]
    },
    {
      "cell_type": "code",
      "metadata": {
        "colab": {
          "base_uri": "https://localhost:8080/",
          "height": 204
        },
        "id": "NFbUe-CqVq3v",
        "outputId": "ecdd9907-ce43-4ff5-f57f-9941710fe591"
      },
      "source": [
        "etfs[etfs.index.str.isdigit()].head(5) #Stocks on Foreign Stocks Markets that are hard to buy but worth mentioning."
      ],
      "execution_count": null,
      "outputs": [
        {
          "output_type": "execute_result",
          "data": {
            "text/html": [
              "<div>\n",
              "<style scoped>\n",
              "    .dataframe tbody tr th:only-of-type {\n",
              "        vertical-align: middle;\n",
              "    }\n",
              "\n",
              "    .dataframe tbody tr th {\n",
              "        vertical-align: top;\n",
              "    }\n",
              "\n",
              "    .dataframe thead th {\n",
              "        text-align: right;\n",
              "    }\n",
              "</style>\n",
              "<table border=\"1\" class=\"dataframe\">\n",
              "  <thead>\n",
              "    <tr style=\"text-align: right;\">\n",
              "      <th></th>\n",
              "      <th>Total Value($)</th>\n",
              "      <th>Total Shares</th>\n",
              "      <th>Weight(%)</th>\n",
              "    </tr>\n",
              "  </thead>\n",
              "  <tbody>\n",
              "    <tr>\n",
              "      <th>2330</th>\n",
              "      <td>4.728601e+09</td>\n",
              "      <td>216872600.0</td>\n",
              "      <td>0.931552</td>\n",
              "    </tr>\n",
              "    <tr>\n",
              "      <th>700</th>\n",
              "      <td>4.080464e+09</td>\n",
              "      <td>48715600.0</td>\n",
              "      <td>0.803867</td>\n",
              "    </tr>\n",
              "    <tr>\n",
              "      <th>005930</th>\n",
              "      <td>3.120353e+09</td>\n",
              "      <td>42722080.0</td>\n",
              "      <td>0.614721</td>\n",
              "    </tr>\n",
              "    <tr>\n",
              "      <th>3690</th>\n",
              "      <td>1.405871e+09</td>\n",
              "      <td>32708782.0</td>\n",
              "      <td>0.276962</td>\n",
              "    </tr>\n",
              "    <tr>\n",
              "      <th>939</th>\n",
              "      <td>6.718288e+08</td>\n",
              "      <td>815238000.0</td>\n",
              "      <td>0.132353</td>\n",
              "    </tr>\n",
              "  </tbody>\n",
              "</table>\n",
              "</div>"
            ],
            "text/plain": [
              "        Total Value($)  Total Shares  Weight(%)\n",
              "2330      4.728601e+09   216872600.0   0.931552\n",
              "700       4.080464e+09    48715600.0   0.803867\n",
              "005930    3.120353e+09    42722080.0   0.614721\n",
              "3690      1.405871e+09    32708782.0   0.276962\n",
              "939       6.718288e+08   815238000.0   0.132353"
            ]
          },
          "metadata": {
            "tags": []
          },
          "execution_count": 29
        }
      ]
    },
    {
      "cell_type": "markdown",
      "metadata": {
        "id": "dDtpXbEIn1Xj"
      },
      "source": [
        "# After we analyzed ETFs and compared stocks in them with a simple FinViz' screener we got a portfolio, where weight of the each stock is equal to the weight of the stock in the complete ETFs portfolio. It is not a financial advise, leverage the acquired insight in your own further analysis."
      ]
    }
  ]
}